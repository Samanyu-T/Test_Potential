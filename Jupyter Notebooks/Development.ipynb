{
 "cells": [
  {
   "cell_type": "code",
   "execution_count": 14,
   "metadata": {},
   "outputs": [
    {
     "name": "stdout",
     "output_type": "stream",
     "text": [
      "[[0.  0.5 0.5]\n",
      " [0.5 0.  0.5]\n",
      " [0.5 0.5 0. ]\n",
      " [0.5 0.5 1. ]\n",
      " [0.5 1.  0.5]\n",
      " [1.  0.5 0.5]]\n"
     ]
    }
   ],
   "source": [
    "import numpy as np\n",
    "import os\n",
    "import itertools\n",
    "\n",
    "n_vac = 1\n",
    "\n",
    "oct_sites_0 = np.zeros((3,3))\n",
    "k = 0\n",
    "\n",
    "for [i,j] in itertools.combinations([0, 1, 2],2):\n",
    "    oct_sites_0[k,[i,j]] = 0.5\n",
    "    k += 1\n",
    "    \n",
    "oct_sites_1 = np.ones((3,3))\n",
    "k = 0\n",
    "\n",
    "for [i,j] in itertools.combinations([0, 1, 2],2):\n",
    "    oct_sites_1[k,[i,j]] = 0.5\n",
    "    k += 1\n",
    "\n",
    "oct_sites_unit = np.vstack([oct_sites_0, oct_sites_1])\n",
    "\n",
    "n_iter = np.clip(n_vac, a_min = 1, a_max = None)\n",
    "\n",
    "oct_sites = np.vstack([oct_sites_unit + i*0.5 for i in range(n_iter)])\n",
    "\n",
    "oct_sites_unique = np.unique(oct_sites, axis = 0)\n",
    "\n",
    "print(oct_sites_unique)"
   ]
  },
  {
   "cell_type": "code",
   "execution_count": 15,
   "metadata": {},
   "outputs": [
    {
     "name": "stdout",
     "output_type": "stream",
     "text": [
      "(24, 3)\n"
     ]
    }
   ],
   "source": [
    "n_vac = 1\n",
    "tet_sites_0 = np.zeros((12,3))\n",
    "k = 0\n",
    "for [i,j] in itertools.combinations([0, 1, 2],2):\n",
    "    tet_sites_0[4*k:4*k+4,[i,j]] = np.array( [[0.5 , 0.25],\n",
    "                                          [0.25, 0.5],\n",
    "                                          [0.5 , 0.75],\n",
    "                                          [0.75, 0.5] ])\n",
    "\n",
    "    k += 1\n",
    "tet_sites_1 = np.ones((12,3))\n",
    "k = 0\n",
    "for [i,j] in itertools.combinations([0, 1, 2],2):\n",
    "    tet_sites_1[4*k:4*k+4,[i,j]] = np.array( [[0.5 , 0.25],\n",
    "                                          [0.25, 0.5],\n",
    "                                          [0.5 , 0.75],\n",
    "                                          [0.75, 0.5] ])\n",
    "\n",
    "    k += 1\n",
    "\n",
    "tet_sites_unit = np.vstack([tet_sites_0, tet_sites_1])\n",
    "\n",
    "n_iter = np.clip(n_vac, a_min = 1, a_max = None)\n",
    "\n",
    "tet_sites = np.vstack([tet_sites_unit + i*0.5 for i in range(n_iter)])\n",
    "\n",
    "tet_sites_unique = np.unique(tet_sites, axis = 0)\n",
    "\n",
    "print(tet_sites_unique.shape)"
   ]
  },
  {
   "cell_type": "code",
   "execution_count": 16,
   "metadata": {},
   "outputs": [
    {
     "name": "stdout",
     "output_type": "stream",
     "text": [
      "[[0.25 0.25 0.25]\n",
      " [0.25 0.25 0.75]\n",
      " [0.25 0.75 0.25]\n",
      " [0.25 0.75 0.75]\n",
      " [0.5  0.5  0.5 ]\n",
      " [0.75 0.25 0.25]\n",
      " [0.75 0.25 0.75]\n",
      " [0.75 0.75 0.25]\n",
      " [0.75 0.75 0.75]\n",
      " [0.75 0.75 1.25]\n",
      " [0.75 1.25 0.75]\n",
      " [0.75 1.25 1.25]\n",
      " [1.   1.   1.  ]\n",
      " [1.25 0.75 0.75]\n",
      " [1.25 0.75 1.25]\n",
      " [1.25 1.25 0.75]\n",
      " [1.25 1.25 1.25]]\n"
     ]
    }
   ],
   "source": [
    "n_vac = 2\n",
    "\n",
    "correction = np.clip((n_vac - 1), a_min=0, a_max = None)\n",
    "\n",
    "n_sites = n_vac + 2 + correction\n",
    "\n",
    "upper_lim = 0.75 + correction * 0.5\n",
    "\n",
    "diag_sites_0 = np.hstack( [\n",
    "\n",
    "    np.linspace(0.25, upper_lim, n_sites).reshape(n_sites,1),\n",
    "    np.linspace(0.25, upper_lim, n_sites).reshape(n_sites,1),\n",
    "    np.linspace(0.25, upper_lim, n_sites).reshape(n_sites,1),\n",
    "])\n",
    "\n",
    "diag_sites_1 = np.array([ \n",
    "                        [0.25, 0.75, 0.75],\n",
    "                        [0.75, 0.25, 0.25],\n",
    "                        [0.75, 0.25, 0.75],\n",
    "                        [0.25, 0.75, 0.25],\n",
    "                        [0.75, 0.75, 0.25],\n",
    "                        [0.25, 0.25, 0.75]\n",
    "                    ])    \n",
    "\n",
    "\n",
    "n_iter = np.clip(n_vac, a_min = 1, a_max = None)\n",
    "\n",
    "diag_sites_1 = np.vstack([diag_sites_1 + i*0.5 for i in range(n_iter)])\n",
    "\n",
    "diag_sites_unit = np.vstack([diag_sites_0, diag_sites_1])\n",
    "\n",
    "diag_sites_unique = np.unique(diag_sites_unit, axis = 0)\n",
    "\n",
    "print(diag_sites_unique)"
   ]
  },
  {
   "cell_type": "code",
   "execution_count": 17,
   "metadata": {},
   "outputs": [
    {
     "name": "stdout",
     "output_type": "stream",
     "text": [
      "[[0.5 0.5 0.5]\n",
      " [1.  1.  1. ]]\n"
     ]
    }
   ],
   "source": [
    "central_sites = np.array( [ [(i+1)*0.5,(i+1)*0.5, (i+1)*0.5] for i in range(n_vac)] )\n",
    "\n",
    "print(central_sites)"
   ]
  },
  {
   "cell_type": "code",
   "execution_count": 18,
   "metadata": {},
   "outputs": [
    {
     "name": "stdout",
     "output_type": "stream",
     "text": [
      "0 0\n",
      "0 1\n",
      "0 2\n",
      "0 3\n",
      "1 1\n",
      "1 2\n",
      "1 3\n",
      "2 2\n",
      "2 3\n",
      "3 3\n"
     ]
    }
   ],
   "source": [
    "n_atoms = 2\n",
    "N = 0\n",
    "sites = [[0.2,0.5], [0.1,0.2], [0.4,0.2],[0, 1] ]\n",
    "\n",
    "for [i,j] in itertools.combinations_with_replacement([0, 1, 2, 3],n_atoms):\n",
    "\n",
    "    N += 1\n",
    "    print(i,j)\n",
    "    sites[i], sites[j]\n"
   ]
  },
  {
   "cell_type": "code",
   "execution_count": 19,
   "metadata": {},
   "outputs": [
    {
     "name": "stdout",
     "output_type": "stream",
     "text": [
      "[array([0.5, 0.5, 0.5]), array([1., 1., 1.]), array([1.5, 1.5, 1.5]), array([2., 2., 2.]), array([2.5, 2.5, 2.5]), array([3., 3., 3.]), array([3.5, 3.5, 3.5]), array([4., 4., 4.]), array([4.5, 4.5, 4.5]), array([5., 5., 5.])]\n"
     ]
    }
   ],
   "source": [
    "n_vac = 10\n",
    "central_sites = [ (i+1)*np.array([0.5, 0.5, 0.5]) for i in range(n_vac)]\n",
    "print(central_sites)"
   ]
  },
  {
   "cell_type": "code",
   "execution_count": 23,
   "metadata": {},
   "outputs": [
    {
     "name": "stdout",
     "output_type": "stream",
     "text": [
      "[[0.   0.25 0.5 ]\n",
      " [0.   0.5  0.25]\n",
      " [0.   0.5  0.75]\n",
      " [0.   0.75 0.5 ]\n",
      " [0.25 0.   0.5 ]\n",
      " [0.25 0.5  0.  ]\n",
      " [0.25 0.5  1.  ]\n",
      " [0.25 1.   0.5 ]\n",
      " [0.5  0.   0.25]\n",
      " [0.5  0.   0.75]\n",
      " [0.5  0.25 0.  ]\n",
      " [0.5  0.25 1.  ]\n",
      " [0.5  0.75 0.  ]\n",
      " [0.5  0.75 1.  ]\n",
      " [0.5  1.   0.25]\n",
      " [0.5  1.   0.75]\n",
      " [0.75 0.   0.5 ]\n",
      " [0.75 0.5  0.  ]\n",
      " [0.75 0.5  1.  ]\n",
      " [0.75 1.   0.5 ]\n",
      " [1.   0.25 0.5 ]\n",
      " [1.   0.5  0.25]\n",
      " [1.   0.5  0.75]\n",
      " [1.   0.75 0.5 ]]\n",
      "[[0.   0.5  0.25]\n",
      " [0.   0.5  0.75]\n",
      " [0.   0.75 0.5 ]\n",
      " [0.25 0.   0.5 ]\n",
      " [0.25 0.5  0.  ]\n",
      " [0.25 0.5  1.  ]\n",
      " [0.25 1.   0.5 ]\n",
      " [0.5  0.   0.25]\n",
      " [0.5  0.   0.75]\n",
      " [0.5  0.25 0.  ]\n",
      " [0.5  0.25 1.  ]\n",
      " [0.5  0.75 0.  ]\n",
      " [0.5  0.75 1.  ]\n",
      " [0.5  1.   0.25]\n",
      " [0.5  1.   0.75]\n",
      " [0.75 0.   0.5 ]\n",
      " [0.75 0.5  0.  ]\n",
      " [0.75 0.5  1.  ]\n",
      " [0.75 1.   0.5 ]\n",
      " [1.   0.25 0.5 ]\n",
      " [1.   0.5  0.25]\n",
      " [1.   0.5  0.75]\n",
      " [1.   0.75 0.5 ]]\n"
     ]
    }
   ],
   "source": [
    "available_sites = [oct_sites_unique, tet_sites_unique, diag_sites_unique, central_sites]\n",
    "\n",
    "print(available_sites[1])\n",
    "\n",
    "available_sites[1] = np.delete(available_sites[1], 0, axis = 0)\n",
    "\n",
    "print(available_sites[1])"
   ]
  },
  {
   "cell_type": "code",
   "execution_count": 21,
   "metadata": {},
   "outputs": [],
   "source": [
    "np.argmax(np.array([0.1, 0.2 ,0.3]) - np.array([0.1, 0.2, 0.3]))\n",
    "\n",
    "lst = []\n",
    "\n",
    "\n",
    "arr = np.random.rand(10,10)\n",
    "\n"
   ]
  }
 ],
 "metadata": {
  "kernelspec": {
   "display_name": "base",
   "language": "python",
   "name": "python3"
  },
  "language_info": {
   "codemirror_mode": {
    "name": "ipython",
    "version": 3
   },
   "file_extension": ".py",
   "mimetype": "text/x-python",
   "name": "python",
   "nbconvert_exporter": "python",
   "pygments_lexer": "ipython3",
   "version": "3.11.4"
  },
  "orig_nbformat": 4
 },
 "nbformat": 4,
 "nbformat_minor": 2
}
