{
 "cells": [
  {
   "cell_type": "code",
   "execution_count": 471,
   "metadata": {},
   "outputs": [
    {
     "name": "stdout",
     "output_type": "stream",
     "text": [
      "[[0.  0.5 0.5]\n",
      " [0.5 0.  0.5]\n",
      " [0.5 0.5 0. ]\n",
      " [0.5 0.5 1. ]\n",
      " [0.5 1.  0.5]\n",
      " [0.5 1.  1. ]\n",
      " [1.  0.5 0.5]\n",
      " [1.  0.5 1. ]\n",
      " [1.  1.  0.5]\n",
      " [1.  1.  1.5]\n",
      " [1.  1.5 1. ]\n",
      " [1.5 1.  1. ]]\n"
     ]
    }
   ],
   "source": [
    "import numpy as np\n",
    "import os\n",
    "import itertools\n",
    "\n",
    "n_vac = 1\n",
    "\n",
    "oct_sites_0 = np.zeros((3,3))\n",
    "k = 0\n",
    "\n",
    "for [i,j] in itertools.combinations([0, 1, 2],2):\n",
    "    oct_sites_0[k,[i,j]] = 0.5\n",
    "    k += 1\n",
    "    \n",
    "oct_sites_1 = np.ones((3,3))\n",
    "k = 0\n",
    "\n",
    "for [i,j] in itertools.combinations([0, 1, 2],2):\n",
    "    oct_sites_1[k,[i,j]] = 0.5\n",
    "    k += 1\n",
    "\n",
    "oct_sites_unit = np.vstack([oct_sites_0, oct_sites_1])\n",
    "\n",
    "n_iter = np.clip(n_vac, a_min = 1, a_max = None)\n",
    "\n",
    "oct_sites = np.vstack([oct_sites_unit + i*0.5 for i in range(n_iter)])\n",
    "\n",
    "oct_sites_unique = np.unique(oct_sites, axis = 0)\n",
    "\n",
    "print(oct_sites_unique)"
   ]
  },
  {
   "cell_type": "code",
   "execution_count": 475,
   "metadata": {},
   "outputs": [
    {
     "name": "stdout",
     "output_type": "stream",
     "text": [
      "(24, 3)\n"
     ]
    }
   ],
   "source": [
    "n_vac = 1\n",
    "tet_sites_0 = np.zeros((12,3))\n",
    "k = 0\n",
    "for [i,j] in itertools.combinations([0, 1, 2],2):\n",
    "    tet_sites_0[4*k:4*k+4,[i,j]] = np.array( [[0.5 , 0.25],\n",
    "                                          [0.25, 0.5],\n",
    "                                          [0.5 , 0.75],\n",
    "                                          [0.75, 0.5] ])\n",
    "\n",
    "    k += 1\n",
    "tet_sites_1 = np.ones((12,3))\n",
    "k = 0\n",
    "for [i,j] in itertools.combinations([0, 1, 2],2):\n",
    "    tet_sites_1[4*k:4*k+4,[i,j]] = np.array( [[0.5 , 0.25],\n",
    "                                          [0.25, 0.5],\n",
    "                                          [0.5 , 0.75],\n",
    "                                          [0.75, 0.5] ])\n",
    "\n",
    "    k += 1\n",
    "\n",
    "tet_sites_unit = np.vstack([tet_sites_0, tet_sites_1])\n",
    "\n",
    "n_iter = np.clip(n_vac, a_min = 1, a_max = None)\n",
    "\n",
    "tet_sites = np.vstack([tet_sites_unit + i*0.5 for i in range(n_iter)])\n",
    "\n",
    "tet_sites_unique = np.unique(tet_sites, axis = 0)\n",
    "\n",
    "print(tet_sites_unique.shape)"
   ]
  },
  {
   "cell_type": "code",
   "execution_count": 512,
   "metadata": {},
   "outputs": [
    {
     "name": "stdout",
     "output_type": "stream",
     "text": [
      "(17, 3)\n"
     ]
    }
   ],
   "source": [
    "n_vac = 2\n",
    "\n",
    "correction = np.clip((n_vac - 1), a_min=0, a_max = None)\n",
    "\n",
    "n_sites = n_vac + 2 + correction\n",
    "\n",
    "upper_lim = 0.75 + correction * 0.5\n",
    "\n",
    "diag_sites_0 = np.hstack( [\n",
    "\n",
    "    np.linspace(0.25, upper_lim, n_sites).reshape(n_sites,1),\n",
    "    np.linspace(0.25, upper_lim, n_sites).reshape(n_sites,1),\n",
    "    np.linspace(0.25, upper_lim, n_sites).reshape(n_sites,1),\n",
    "])\n",
    "\n",
    "diag_sites_1 = np.array([ \n",
    "                        [0.25, 0.75, 0.75],\n",
    "                        [0.75, 0.25, 0.25],\n",
    "                        [0.75, 0.25, 0.75],\n",
    "                        [0.25, 0.75, 0.25],\n",
    "                        [0.75, 0.75, 0.25],\n",
    "                        [0.25, 0.25, 0.75]\n",
    "                    ])    \n",
    "\n",
    "\n",
    "n_iter = np.clip(n_vac, a_min = 1, a_max = None)\n",
    "\n",
    "diag_sites_1 = np.vstack([diag_sites_1 + i*0.5 for i in range(n_iter)])\n",
    "\n",
    "diag_sites_unit = np.vstack([diag_sites_0, diag_sites_1])\n",
    "\n",
    "diag_sites_unique = np.unique(diag_sites_unit, axis = 0)\n",
    "\n",
    "print(diag_sites_unique)"
   ]
  },
  {
   "cell_type": "code",
   "execution_count": 515,
   "metadata": {},
   "outputs": [
    {
     "name": "stdout",
     "output_type": "stream",
     "text": [
      "[[0.5 0.5 0.5]\n",
      " [1.  1.  1. ]]\n"
     ]
    }
   ],
   "source": [
    "central_sites = np.array( [ [(i+1)*0.5,(i+1)*0.5, (i+1)*0.5] for i in range(n_vac)] )\n",
    "\n",
    "print(central_sites)"
   ]
  },
  {
   "cell_type": "code",
   "execution_count": 504,
   "metadata": {},
   "outputs": [
    {
     "name": "stdout",
     "output_type": "stream",
     "text": [
      "475020\n"
     ]
    }
   ],
   "source": [
    "n_atoms = 6\n",
    "N = 0\n",
    "for possible_sites in itertools.combinations_with_replacement([0, 1, 2],n_atoms):\n",
    "    N += 1\n",
    "print(N)"
   ]
  }
 ],
 "metadata": {
  "kernelspec": {
   "display_name": "base",
   "language": "python",
   "name": "python3"
  },
  "language_info": {
   "codemirror_mode": {
    "name": "ipython",
    "version": 3
   },
   "file_extension": ".py",
   "mimetype": "text/x-python",
   "name": "python",
   "nbconvert_exporter": "python",
   "pygments_lexer": "ipython3",
   "version": "3.11.4"
  },
  "orig_nbformat": 4
 },
 "nbformat": 4,
 "nbformat_minor": 2
}
