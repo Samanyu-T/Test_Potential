{
 "cells": [
  {
   "cell_type": "code",
   "execution_count": 5,
   "metadata": {},
   "outputs": [],
   "source": [
    "import numpy as np\n",
    "import os\n",
    "import copy\n",
    "\n",
    "if os.getcwd() == '/Users/cd8607/Documents/Test_Potentials':\n",
    "    pass\n",
    "else:\n",
    "    os.chdir('../')"
   ]
  },
  {
   "cell_type": "code",
   "execution_count": 6,
   "metadata": {},
   "outputs": [],
   "source": [
    "def edit_dump(filename, component):\n",
    "    ref = {}\n",
    "\n",
    "    ref['lookup'] = ['W', 'H', 'He']\n",
    "\n",
    "    ref['W'] = {}\n",
    "    ref['H'] = {}\n",
    "    ref['He'] = {}\n",
    "\n",
    "    ref['W']['pairwise'] = 1.82755\n",
    "    ref['W']['eam'] = -10.7772\n",
    "    ref['W']['edensity'] = 1.0753\n",
    "\n",
    "    ref['H']['pairwise'] = 2.02899\n",
    "    ref['H']['eam'] = -0.35173\n",
    "    ref['H']['edensity'] = 1.30147\n",
    "\n",
    "    ref['He']['pairwise'] = 2.26312\n",
    "    ref['He']['eam'] = 0.0\n",
    "    ref['He']['edensity'] = 1.20073\n",
    "\n",
    "    data = np.loadtxt(filename, skiprows=9)\n",
    "\n",
    "    with open(filename, 'r') as oldfile:\n",
    "        with open(filename + '.rel', 'w') as newfile:\n",
    "\n",
    "            for i in range(9):\n",
    "                line = oldfile.readline()\n",
    "                newfile.write(line)\n",
    "            \n",
    "            for row in data:\n",
    "                c_pot = row[5] - ref[ref['lookup'][int(row[1])-1]][component]\n",
    "\n",
    "                newfile.write('%d %d %5f %5f %5f %5f \\n' % (int(row[0]), int(row[1]), row[2], row[3], row[4], c_pot))"
   ]
  },
  {
   "cell_type": "code",
   "execution_count": 7,
   "metadata": {},
   "outputs": [],
   "source": [
    "component = 'eam'\n",
    "edit_dump('Components/%s_V0H1He0.dump' % component, component)\n",
    "edit_dump('Components/%s_V0H1He1.dump' % component, component)\n",
    "edit_dump('Components/%s_V0H0He1_relaxed.dump' % component, component)\n",
    "edit_dump('Components/%s_V0H1He0_relaxed.dump' % component, component)\n",
    "\n",
    "component = 'pairwise'\n",
    "edit_dump('Components/%s_V0H1He0.dump' % component, component)\n",
    "edit_dump('Components/%s_V0H1He1.dump' % component, component)\n",
    "edit_dump('Components/%s_V0H0He1_relaxed.dump' % component, component)\n",
    "edit_dump('Components/%s_V0H1He0_relaxed.dump' % component, component)\n",
    "\n",
    "component = 'edensity'\n",
    "edit_dump('Components/%s_V0H1He0.dump' % component, component)\n",
    "edit_dump('Components/%s_V0H1He1.dump' % component, component)\n",
    "edit_dump('Components/%s_V0H0He1_relaxed.dump' % component, component)\n",
    "edit_dump('Components/%s_V0H1He0_relaxed.dump' % component, component)\n"
   ]
  },
  {
   "cell_type": "code",
   "execution_count": 8,
   "metadata": {},
   "outputs": [
    {
     "data": {
      "text/plain": [
       "array([3.50075687, 3.69798888, 4.00003816])"
      ]
     },
     "execution_count": 8,
     "metadata": {},
     "output_type": "execute_result"
    }
   ],
   "source": [
    "x = np.array([11.0082, 11.6284, 12.5782])\n",
    "x/3.14452"
   ]
  }
 ],
 "metadata": {
  "kernelspec": {
   "display_name": "base",
   "language": "python",
   "name": "python3"
  },
  "language_info": {
   "codemirror_mode": {
    "name": "ipython",
    "version": 3
   },
   "file_extension": ".py",
   "mimetype": "text/x-python",
   "name": "python",
   "nbconvert_exporter": "python",
   "pygments_lexer": "ipython3",
   "version": "3.11.4"
  },
  "orig_nbformat": 4
 },
 "nbformat": 4,
 "nbformat_minor": 2
}
