{
 "cells": [
  {
   "cell_type": "code",
   "execution_count": 29,
   "metadata": {},
   "outputs": [],
   "source": [
    "import matplotlib.pyplot as plt \n",
    "import numpy as np\n",
    "import json\n",
    "import pandas as pd\n",
    "import plotly.express as px \n",
    "import os\n",
    "from tabulate import tabulate"
   ]
  },
  {
   "cell_type": "code",
   "execution_count": 30,
   "metadata": {},
   "outputs": [
    {
     "name": "stdout",
     "output_type": "stream",
     "text": [
      "/Users/cd8607/Documents/Test_Potentials/Data/Defect Analysis\n"
     ]
    }
   ],
   "source": [
    "print(os.getcwd())"
   ]
  },
  {
   "cell_type": "code",
   "execution_count": 31,
   "metadata": {},
   "outputs": [],
   "source": [
    "# os.chdir('../Data/Defect Analysis/')"
   ]
  },
  {
   "cell_type": "code",
   "execution_count": 32,
   "metadata": {},
   "outputs": [],
   "source": [
    "with open('point_defects.json', 'r') as file:\n",
    "    data = json.load(file)"
   ]
  },
  {
   "cell_type": "code",
   "execution_count": 33,
   "metadata": {},
   "outputs": [],
   "source": [
    "perfect = data['V_0H_0He_0']['energy_opt']\n",
    "\n",
    "for key in data:\n",
    "    data[key]['energy_opt'] -= perfect"
   ]
  },
  {
   "cell_type": "code",
   "execution_count": 34,
   "metadata": {},
   "outputs": [
    {
     "name": "stdout",
     "output_type": "stream",
     "text": [
      "V_0H_0He_0          0.0\n",
      "V_0H_1He_0     -1.32504\n",
      "V_0H_2He_0    -2.818034\n",
      "V_0H_3He_0    -4.216612\n",
      "V_0H_4He_0    -5.765242\n",
      "                ...    \n",
      "V_1H_6He_2     2.964112\n",
      "V_1H_6He_3      6.04467\n",
      "V_1H_6He_4     9.336843\n",
      "V_1H_6He_5    12.727785\n",
      "V_1H_6He_6    16.998208\n",
      "Name: energy_opt, Length: 111, dtype: object\n"
     ]
    }
   ],
   "source": [
    "df = pd.DataFrame(data)\n",
    "\n",
    "df_energy = df.iloc[0]\n",
    "\n",
    "print(df_energy)\n",
    "\n",
    "binding = {}"
   ]
  },
  {
   "cell_type": "code",
   "execution_count": 35,
   "metadata": {},
   "outputs": [],
   "source": [
    "def find_binding(binding, n_vac, n_int, add_element, title):\n",
    "\n",
    "    add_int = df_energy['V_0H_%dHe_%d' % (add_element[0], add_element[1])]\n",
    "\n",
    "    init_config = []\n",
    "    final_config = []\n",
    "\n",
    "    for [n_h, n_he] in n_int:\n",
    "\n",
    "        init_config.append(df_energy['V_%dH_%dHe_%d' % (n_vac, n_h, n_he)])\n",
    "\n",
    "        final_config.append(df_energy['V_%dH_%dHe_%d' % (n_vac, n_h + add_element[0], n_he + add_element[1])])\n",
    "\n",
    "    init_config = np.array(init_config)\n",
    "\n",
    "    final_config = np.array(final_config)\n",
    "\n",
    "    print(init_config, final_config)\n",
    "    binding['\\ce{%s}' % title] = add_int + init_config - final_config\n",
    "    \n",
    "    return binding"
   ]
  },
  {
   "cell_type": "code",
   "execution_count": 36,
   "metadata": {},
   "outputs": [
    {
     "name": "stdout",
     "output_type": "stream",
     "text": [
      "[ 0.          6.68583835 12.45439473 17.77821183 22.92298795 27.90669161] [ 6.68583835 12.45439473 17.77821183 22.92298795 27.90669161 32.92785599]\n",
      "[ 0.         -1.3250399  -2.81803387 -4.21661217 -5.76524248 -7.09386288] [-1.3250399  -2.81803387 -4.21661217 -5.76524248 -7.09386288 -8.46482618]\n",
      "[12.58417698 13.87799298 17.20424602 20.76608664 24.35024418 28.663684  ] [13.87799298 17.20424602 20.76608664 24.35024418 28.663684   32.61765653]\n",
      "[12.58417698 10.02525613  7.35054084  5.05042406  2.74490755  0.64389763] [10.02525613  7.35054084  5.05042406  2.74490755  0.64389763 -1.16782998]\n"
     ]
    }
   ],
   "source": [
    "binding = {}\n",
    "\n",
    "for vac in range(2):\n",
    "    for i in range(1):\n",
    "        binding = find_binding(binding, vac, np.hstack([i*np.ones([6,1],dtype=int), np.arange(6).reshape(6,1)]),  [0,1], 'V%dH%dHe_x + He' % (vac, i))\n",
    "        binding = find_binding(binding, vac, np.hstack([np.arange(6).reshape(6,1),  i*np.ones([6,1],dtype=int)]), [1,0], 'V%dH_xHe%d + H' % (vac, i))\n"
   ]
  },
  {
   "cell_type": "code",
   "execution_count": 37,
   "metadata": {},
   "outputs": [
    {
     "name": "stdout",
     "output_type": "stream",
     "text": [
      "[ 0.          6.68583835 12.45439473 17.77821183 22.92298795 27.90669161] [-1.3250399   4.63380346 10.05065766 15.09867276 20.03629331 25.03476874]\n",
      "[-1.3250399   4.63380346 10.05065766 15.09867276 20.03629331 25.03476874] [-2.81803387  2.51019043  7.79133345 12.51261373 17.37728927 22.08673103]\n",
      "[-2.81803387  2.51019043  7.79133345 12.51261373 17.37728927 22.08673103] [-4.21661217  0.51044882  5.82316515 10.50357243 15.17916091 19.90638678]\n",
      "[-4.21661217  0.51044882  5.82316515 10.50357243 15.17916091 19.90638678] [-5.76524248 -1.1703989   3.55705358  8.48640969 13.19401573 17.53117076]\n",
      "[-5.76524248 -1.1703989   3.55705358  8.48640969 13.19401573 17.53117076] [-7.09386288 -3.05859614  1.55986241  6.44121079 11.168501   15.50381558]\n",
      "[-7.09386288 -3.05859614  1.55986241  6.44121079 11.168501   15.50381558] [-8.46482618 -4.63862266 -0.12285935  4.35905332  9.05415816 13.26602375]\n",
      "[12.58417698 13.87799298 17.20424602 20.76608664 24.35024418 28.663684  ] [10.02525613 11.32409983 14.60139617 18.18737729 21.73555451 25.96561612]\n",
      "[10.02525613 11.32409983 14.60139617 18.18737729 21.73555451 25.96561612] [ 7.35054084  8.64627765 11.92152541 15.41734098 18.8557654  22.95381707]\n",
      "[ 7.35054084  8.64627765 11.92152541 15.41734098 18.8557654  22.95381707] [ 5.05042406  6.35819381  9.60669837 13.01223772 16.3762074  20.4175708 ]\n",
      "[ 5.05042406  6.35819381  9.60669837 13.01223772 16.3762074  20.4175708 ] [ 2.74490755  4.03047145  7.06369941 10.32510331 13.59443712 17.58199093]\n",
      "[ 2.74490755  4.03047145  7.06369941 10.32510331 13.59443712 17.58199093] [ 0.64389763  1.85108147  5.17003676  8.41347791 11.69912106 15.21966752]\n",
      "[ 0.64389763  1.85108147  5.17003676  8.41347791 11.69912106 15.21966752] [-1.16782998 -0.18376114  2.96411218  6.0446703   9.33684299 12.72778516]\n"
     ]
    }
   ],
   "source": [
    "binding = {}\n",
    "\n",
    "for vac in range(2):\n",
    "    for i in range(6):\n",
    "        binding = find_binding(binding, vac, np.hstack([i*np.ones([6,1],dtype=int), np.arange(6).reshape(6,1)]), [1,0], 'V%dH%dHe_x + H' % (vac, i))\n"
   ]
  },
  {
   "cell_type": "code",
   "execution_count": 38,
   "metadata": {},
   "outputs": [],
   "source": [
    "df = pd.DataFrame(binding)"
   ]
  },
  {
   "cell_type": "code",
   "execution_count": 39,
   "metadata": {},
   "outputs": [
    {
     "name": "stderr",
     "output_type": "stream",
     "text": [
      "/var/folders/s9/zg8t26bx2xg094_h3_f559v40000gp/T/ipykernel_15269/965674865.py:3: FutureWarning: iteritems is deprecated and will be removed in a future version. Use .items instead.\n",
      "  for column_name, column_data in df.iteritems():\n"
     ]
    }
   ],
   "source": [
    "latex_content = ''\n",
    "\n",
    "for column_name, column_data in df.iteritems():\n",
    "    # Convert the column data to a LaTeX table\n",
    "    latex_table = tabulate(pd.DataFrame(column_data), headers=['x', 'this work'], tablefmt='latex', floatfmt='.2f')\n",
    "    \n",
    "    # Add the LaTeX table to the content string\n",
    "    latex_content += f\"\\\\subsubsection*{{{column_name}}}\\n\"\n",
    "    latex_content += latex_table + \"\\n\\n\""
   ]
  },
  {
   "cell_type": "code",
   "execution_count": 40,
   "metadata": {},
   "outputs": [
    {
     "name": "stdout",
     "output_type": "stream",
     "text": [
      "   \\ce{V0H0He_x + H}  \\ce{V0H1He_x + H}  \\ce{V0H2He_x + H}  \\ce{V0H3He_x + H}  \\\n",
      "0           0.000000           0.167954           0.073538           0.223590   \n",
      "1           0.726995           0.798573           0.674702           0.355808   \n",
      "2           1.078697           0.934284           0.643128           0.941072   \n",
      "3           1.354499           1.261019           0.684001           0.692123   \n",
      "4           1.561655           1.333964           0.873088           0.660105   \n",
      "5           1.546883           1.622998           0.855304           1.050176   \n",
      "\n",
      "   \\ce{V0H4He_x + H}  \\ce{V0H5He_x + H}  \\ce{V1H0He_x + H}  \\ce{V1H1He_x + H}  \\\n",
      "0           0.003580           0.045923           1.233881           1.349675   \n",
      "1           0.563157           0.254987           1.228853           1.352782   \n",
      "2           0.672151           0.357682           1.277810           1.354831   \n",
      "3           0.720159           0.757118           1.253669           1.444996   \n",
      "4           0.700475           0.789303           1.289650           1.554749   \n",
      "5           0.702315           0.912752           1.373028           1.686759   \n",
      "\n",
      "   \\ce{V1H2He_x + H}  \\ce{V1H3He_x + H}  \\ce{V1H4He_x + H}  \\ce{V1H5He_x + H}  \n",
      "0           0.975077           0.980477           0.775970           0.486688  \n",
      "1           0.963044           1.002682           0.854350           0.709803  \n",
      "2           0.989787           1.217959           0.568623           0.880885  \n",
      "3           1.080063           1.362095           0.586586           1.043768  \n",
      "4           1.154518           1.456730           0.570276           1.037238  \n",
      "5           1.211206           1.510540           1.037284           1.166842  \n"
     ]
    }
   ],
   "source": [
    "with open(\"output2.tex\", \"w\") as latex_file:\n",
    "    latex_file.write(latex_content)\n",
    "\n",
    "print(df)"
   ]
  },
  {
   "cell_type": "code",
   "execution_count": 41,
   "metadata": {},
   "outputs": [
    {
     "name": "stdout",
     "output_type": "stream",
     "text": [
      "[0 0]\n",
      "[0 1]\n",
      "[0 2]\n",
      "[0 3]\n",
      "[0 4]\n"
     ]
    }
   ],
   "source": [
    "lst = np.hstack([np.zeros([5,1],dtype=int), np.arange(5).reshape(5,1)])\n",
    "for i in lst:\n",
    "    print(i)"
   ]
  }
 ],
 "metadata": {
  "kernelspec": {
   "display_name": "base",
   "language": "python",
   "name": "python3"
  },
  "language_info": {
   "codemirror_mode": {
    "name": "ipython",
    "version": 3
   },
   "file_extension": ".py",
   "mimetype": "text/x-python",
   "name": "python",
   "nbconvert_exporter": "python",
   "pygments_lexer": "ipython3",
   "version": "3.11.4"
  },
  "orig_nbformat": 4
 },
 "nbformat": 4,
 "nbformat_minor": 2
}
